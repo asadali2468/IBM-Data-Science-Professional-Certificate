{
 "cells": [
  {
   "cell_type": "markdown",
   "id": "ea6baa8f-bf90-483b-8101-71b944a11538",
   "metadata": {
    "tags": []
   },
   "source": [
    "# Data Science Tools and Ecosystem"
   ]
  },
  {
   "cell_type": "markdown",
   "id": "59b54b96-9b9d-4d36-9819-2f0cf377f832",
   "metadata": {},
   "source": [
    "In this notebook, Data Science Tools and Ecosystem are summarized."
   ]
  },
  {
   "cell_type": "markdown",
   "id": "09d835e9-2ca1-4c6f-9f0c-ef6db74d28c8",
   "metadata": {},
   "source": [
    "__Objectives:__\n",
    "* List popular languages for Data Science \n",
    "* List common libraries for Data Science\n",
    "* 3 Open Source Data Science Tools\n",
    "* Basic Arithmetic Operations\n",
    "* Converting minutes to hours"
   ]
  },
  {
   "cell_type": "markdown",
   "id": "bd0a0882-de51-4f97-a3c4-a754af07fed6",
   "metadata": {},
   "source": [
    "Some of the popular languages that Data Scientists use are:\n",
    "1. Python\n",
    "2. R\n",
    "3. SQL"
   ]
  },
  {
   "cell_type": "markdown",
   "id": "f119ce72-aec5-4c91-af72-e6ff77901208",
   "metadata": {},
   "source": [
    "Some of the commonly used libraries used by Data Scientists include:\n",
    "1. ggplot2\n",
    "2. sklearn\n",
    "3. pandas"
   ]
  },
  {
   "cell_type": "markdown",
   "id": "3d97800a-b50d-44ac-8c53-ef44908d76db",
   "metadata": {
    "tags": []
   },
   "source": [
    "|Data Science Tools|\n",
    "|------------------|\n",
    "|GitHub|\n",
    "|Docker images|\n",
    "|REST APIs|"
   ]
  },
  {
   "cell_type": "markdown",
   "id": "bea42fab-125f-4139-8f04-fe27bd6cb23e",
   "metadata": {
    "tags": []
   },
   "source": [
    "### Below are a few examples of evaluating arithmetic expressions in Python"
   ]
  },
  {
   "cell_type": "code",
   "execution_count": 5,
   "id": "271b641d-6057-45ce-9046-9fc86afb15a8",
   "metadata": {
    "tags": []
   },
   "outputs": [
    {
     "data": {
      "text/plain": [
       "17"
      ]
     },
     "execution_count": 5,
     "metadata": {},
     "output_type": "execute_result"
    }
   ],
   "source": [
    "# This a simple arithmetic expression to mutiply then add integers\n",
    "(3*4)+5"
   ]
  },
  {
   "cell_type": "code",
   "execution_count": 7,
   "id": "3d0aa02d-1465-49a0-a907-7c3fbd192b71",
   "metadata": {
    "tags": []
   },
   "outputs": [
    {
     "name": "stdout",
     "output_type": "stream",
     "text": [
      "3.3333333333333335\n"
     ]
    }
   ],
   "source": [
    "#This will convert 200 minutes to hours by diving by 60.\n",
    "\n",
    "minutes = 200\n",
    "hours = minutes/60\n",
    "print(hours)"
   ]
  },
  {
   "cell_type": "markdown",
   "id": "9bd2a261-02fb-4fcc-b02a-32353ac9e800",
   "metadata": {
    "tags": []
   },
   "source": [
    "## Author\n",
    "Asad Ali"
   ]
  }
 ],
 "metadata": {
  "kernelspec": {
   "display_name": "Python",
   "language": "python",
   "name": "conda-env-python-py"
  },
  "language_info": {
   "codemirror_mode": {
    "name": "ipython",
    "version": 3
   },
   "file_extension": ".py",
   "mimetype": "text/x-python",
   "name": "python",
   "nbconvert_exporter": "python",
   "pygments_lexer": "ipython3",
   "version": "3.7.12"
  }
 },
 "nbformat": 4,
 "nbformat_minor": 5
}
